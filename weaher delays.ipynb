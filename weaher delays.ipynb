{
 "cells": [
  {
   "cell_type": "code",
   "execution_count": 135,
   "metadata": {},
   "outputs": [],
   "source": [
    "import pandas as pd\n",
    "import numpy as np\n",
    "import matplotlib.pyplot as plt\n"
   ]
  },
  {
   "cell_type": "code",
   "execution_count": 136,
   "metadata": {},
   "outputs": [],
   "source": [
    "weather = pd.read_csv('Resources/airline_delay_causes.csv')"
   ]
  },
  {
   "cell_type": "code",
   "execution_count": 137,
   "metadata": {},
   "outputs": [
    {
     "data": {
      "text/html": [
       "<div>\n",
       "<style scoped>\n",
       "    .dataframe tbody tr th:only-of-type {\n",
       "        vertical-align: middle;\n",
       "    }\n",
       "\n",
       "    .dataframe tbody tr th {\n",
       "        vertical-align: top;\n",
       "    }\n",
       "\n",
       "    .dataframe thead th {\n",
       "        text-align: right;\n",
       "    }\n",
       "</style>\n",
       "<table border=\"1\" class=\"dataframe\">\n",
       "  <thead>\n",
       "    <tr style=\"text-align: right;\">\n",
       "      <th></th>\n",
       "      <th>year</th>\n",
       "      <th>month</th>\n",
       "      <th>carrier</th>\n",
       "      <th>carrier_name</th>\n",
       "      <th>airport</th>\n",
       "      <th>airport_name</th>\n",
       "      <th>arr_flights</th>\n",
       "      <th>arr_del15</th>\n",
       "      <th>carrier_ct</th>\n",
       "      <th>weather_ct</th>\n",
       "      <th>...</th>\n",
       "      <th>security_ct</th>\n",
       "      <th>late_aircraft_ct</th>\n",
       "      <th>arr_cancelled</th>\n",
       "      <th>arr_diverted</th>\n",
       "      <th>arr_delay</th>\n",
       "      <th>carrier_delay</th>\n",
       "      <th>weather_delay</th>\n",
       "      <th>nas_delay</th>\n",
       "      <th>security_delay</th>\n",
       "      <th>late_aircraft_delay</th>\n",
       "    </tr>\n",
       "  </thead>\n",
       "  <tbody>\n",
       "    <tr>\n",
       "      <th>0</th>\n",
       "      <td>2013</td>\n",
       "      <td>7</td>\n",
       "      <td>9E</td>\n",
       "      <td>Pinnacle Airlines Inc.</td>\n",
       "      <td>AUS</td>\n",
       "      <td>Austin, TX: Austin - Bergstrom International</td>\n",
       "      <td>156.0</td>\n",
       "      <td>45.0</td>\n",
       "      <td>19.94</td>\n",
       "      <td>0.66</td>\n",
       "      <td>...</td>\n",
       "      <td>0.00</td>\n",
       "      <td>14.05</td>\n",
       "      <td>3.0</td>\n",
       "      <td>1.0</td>\n",
       "      <td>2416.0</td>\n",
       "      <td>1118.0</td>\n",
       "      <td>53.0</td>\n",
       "      <td>398.0</td>\n",
       "      <td>0.0</td>\n",
       "      <td>847.0</td>\n",
       "    </tr>\n",
       "    <tr>\n",
       "      <th>1</th>\n",
       "      <td>2013</td>\n",
       "      <td>7</td>\n",
       "      <td>9E</td>\n",
       "      <td>Pinnacle Airlines Inc.</td>\n",
       "      <td>MEM</td>\n",
       "      <td>Memphis, TN: Memphis International</td>\n",
       "      <td>473.0</td>\n",
       "      <td>88.0</td>\n",
       "      <td>33.96</td>\n",
       "      <td>0.95</td>\n",
       "      <td>...</td>\n",
       "      <td>0.00</td>\n",
       "      <td>31.90</td>\n",
       "      <td>20.0</td>\n",
       "      <td>1.0</td>\n",
       "      <td>6430.0</td>\n",
       "      <td>2579.0</td>\n",
       "      <td>27.0</td>\n",
       "      <td>802.0</td>\n",
       "      <td>0.0</td>\n",
       "      <td>3022.0</td>\n",
       "    </tr>\n",
       "    <tr>\n",
       "      <th>2</th>\n",
       "      <td>2013</td>\n",
       "      <td>7</td>\n",
       "      <td>9E</td>\n",
       "      <td>Pinnacle Airlines Inc.</td>\n",
       "      <td>MSP</td>\n",
       "      <td>Minneapolis, MN: Minneapolis-St Paul Internati...</td>\n",
       "      <td>3124.0</td>\n",
       "      <td>515.0</td>\n",
       "      <td>153.42</td>\n",
       "      <td>14.05</td>\n",
       "      <td>...</td>\n",
       "      <td>0.00</td>\n",
       "      <td>252.26</td>\n",
       "      <td>91.0</td>\n",
       "      <td>6.0</td>\n",
       "      <td>35777.0</td>\n",
       "      <td>14112.0</td>\n",
       "      <td>687.0</td>\n",
       "      <td>4481.0</td>\n",
       "      <td>0.0</td>\n",
       "      <td>16497.0</td>\n",
       "    </tr>\n",
       "    <tr>\n",
       "      <th>3</th>\n",
       "      <td>2013</td>\n",
       "      <td>7</td>\n",
       "      <td>9E</td>\n",
       "      <td>Pinnacle Airlines Inc.</td>\n",
       "      <td>CVG</td>\n",
       "      <td>Cincinnati, OH: Cincinnati/Northern Kentucky I...</td>\n",
       "      <td>1580.0</td>\n",
       "      <td>342.0</td>\n",
       "      <td>100.13</td>\n",
       "      <td>6.95</td>\n",
       "      <td>...</td>\n",
       "      <td>0.00</td>\n",
       "      <td>155.33</td>\n",
       "      <td>68.0</td>\n",
       "      <td>2.0</td>\n",
       "      <td>24171.0</td>\n",
       "      <td>7559.0</td>\n",
       "      <td>620.0</td>\n",
       "      <td>4629.0</td>\n",
       "      <td>0.0</td>\n",
       "      <td>11363.0</td>\n",
       "    </tr>\n",
       "    <tr>\n",
       "      <th>4</th>\n",
       "      <td>2013</td>\n",
       "      <td>7</td>\n",
       "      <td>9E</td>\n",
       "      <td>Pinnacle Airlines Inc.</td>\n",
       "      <td>PHL</td>\n",
       "      <td>Philadelphia, PA: Philadelphia International</td>\n",
       "      <td>249.0</td>\n",
       "      <td>93.0</td>\n",
       "      <td>20.34</td>\n",
       "      <td>1.46</td>\n",
       "      <td>...</td>\n",
       "      <td>0.51</td>\n",
       "      <td>26.60</td>\n",
       "      <td>22.0</td>\n",
       "      <td>0.0</td>\n",
       "      <td>6980.0</td>\n",
       "      <td>1863.0</td>\n",
       "      <td>30.0</td>\n",
       "      <td>2791.0</td>\n",
       "      <td>19.0</td>\n",
       "      <td>2277.0</td>\n",
       "    </tr>\n",
       "  </tbody>\n",
       "</table>\n",
       "<p>5 rows × 21 columns</p>\n",
       "</div>"
      ],
      "text/plain": [
       "   year   month carrier            carrier_name airport  \\\n",
       "0  2013       7      9E  Pinnacle Airlines Inc.     AUS   \n",
       "1  2013       7      9E  Pinnacle Airlines Inc.     MEM   \n",
       "2  2013       7      9E  Pinnacle Airlines Inc.     MSP   \n",
       "3  2013       7      9E  Pinnacle Airlines Inc.     CVG   \n",
       "4  2013       7      9E  Pinnacle Airlines Inc.     PHL   \n",
       "\n",
       "                                        airport_name  arr_flights  arr_del15  \\\n",
       "0       Austin, TX: Austin - Bergstrom International        156.0       45.0   \n",
       "1                 Memphis, TN: Memphis International        473.0       88.0   \n",
       "2  Minneapolis, MN: Minneapolis-St Paul Internati...       3124.0      515.0   \n",
       "3  Cincinnati, OH: Cincinnati/Northern Kentucky I...       1580.0      342.0   \n",
       "4       Philadelphia, PA: Philadelphia International        249.0       93.0   \n",
       "\n",
       "   carrier_ct   weather_ct         ...           security_ct  \\\n",
       "0       19.94         0.66         ...                  0.00   \n",
       "1       33.96         0.95         ...                  0.00   \n",
       "2      153.42        14.05         ...                  0.00   \n",
       "3      100.13         6.95         ...                  0.00   \n",
       "4       20.34         1.46         ...                  0.51   \n",
       "\n",
       "   late_aircraft_ct  arr_cancelled  arr_diverted   arr_delay   carrier_delay  \\\n",
       "0             14.05            3.0           1.0      2416.0          1118.0   \n",
       "1             31.90           20.0           1.0      6430.0          2579.0   \n",
       "2            252.26           91.0           6.0     35777.0         14112.0   \n",
       "3            155.33           68.0           2.0     24171.0          7559.0   \n",
       "4             26.60           22.0           0.0      6980.0          1863.0   \n",
       "\n",
       "   weather_delay  nas_delay  security_delay  late_aircraft_delay  \n",
       "0           53.0      398.0             0.0                847.0  \n",
       "1           27.0      802.0             0.0               3022.0  \n",
       "2          687.0     4481.0             0.0              16497.0  \n",
       "3          620.0     4629.0             0.0              11363.0  \n",
       "4           30.0     2791.0            19.0               2277.0  \n",
       "\n",
       "[5 rows x 21 columns]"
      ]
     },
     "execution_count": 137,
     "metadata": {},
     "output_type": "execute_result"
    }
   ],
   "source": [
    "weather.head()"
   ]
  },
  {
   "cell_type": "code",
   "execution_count": null,
   "metadata": {},
   "outputs": [],
   "source": []
  },
  {
   "cell_type": "code",
   "execution_count": 138,
   "metadata": {},
   "outputs": [],
   "source": [
    "#weather_df = pd.read_csv(file_to_load)\n",
    "weather_df = pd.DataFrame(weather)"
   ]
  },
  {
   "cell_type": "code",
   "execution_count": 139,
   "metadata": {},
   "outputs": [],
   "source": [
    "years= weather_df.groupby('year')"
   ]
  },
  {
   "cell_type": "code",
   "execution_count": 140,
   "metadata": {},
   "outputs": [],
   "source": [
    "years_df = years[['carrier_name','airport','weather_delay','nas_delay','security_delay','late_aircraft_delay']]\n"
   ]
  },
  {
   "cell_type": "code",
   "execution_count": 181,
   "metadata": {},
   "outputs": [
    {
     "data": {
      "text/html": [
       "<div>\n",
       "<style scoped>\n",
       "    .dataframe tbody tr th:only-of-type {\n",
       "        vertical-align: middle;\n",
       "    }\n",
       "\n",
       "    .dataframe tbody tr th {\n",
       "        vertical-align: top;\n",
       "    }\n",
       "\n",
       "    .dataframe thead th {\n",
       "        text-align: right;\n",
       "    }\n",
       "</style>\n",
       "<table border=\"1\" class=\"dataframe\">\n",
       "  <thead>\n",
       "    <tr style=\"text-align: right;\">\n",
       "      <th></th>\n",
       "      <th>weather_delay</th>\n",
       "      <th>nas_delay</th>\n",
       "      <th>security_delay</th>\n",
       "      <th>late_aircraft_delay</th>\n",
       "    </tr>\n",
       "    <tr>\n",
       "      <th>year</th>\n",
       "      <th></th>\n",
       "      <th></th>\n",
       "      <th></th>\n",
       "      <th></th>\n",
       "    </tr>\n",
       "  </thead>\n",
       "  <tbody>\n",
       "    <tr>\n",
       "      <th>2013</th>\n",
       "      <td>1284081.0</td>\n",
       "      <td>8108306.0</td>\n",
       "      <td>60215.0</td>\n",
       "      <td>14814671.0</td>\n",
       "    </tr>\n",
       "    <tr>\n",
       "      <th>2014</th>\n",
       "      <td>2988669.0</td>\n",
       "      <td>16519549.0</td>\n",
       "      <td>65350.0</td>\n",
       "      <td>29483984.0</td>\n",
       "    </tr>\n",
       "    <tr>\n",
       "      <th>2015</th>\n",
       "      <td>3100233.0</td>\n",
       "      <td>14335762.0</td>\n",
       "      <td>80985.0</td>\n",
       "      <td>24961931.0</td>\n",
       "    </tr>\n",
       "    <tr>\n",
       "      <th>2016</th>\n",
       "      <td>2606083.0</td>\n",
       "      <td>14170617.0</td>\n",
       "      <td>81925.0</td>\n",
       "      <td>23458398.0</td>\n",
       "    </tr>\n",
       "    <tr>\n",
       "      <th>2017</th>\n",
       "      <td>2799759.0</td>\n",
       "      <td>16500787.0</td>\n",
       "      <td>94170.0</td>\n",
       "      <td>25905070.0</td>\n",
       "    </tr>\n",
       "    <tr>\n",
       "      <th>2018</th>\n",
       "      <td>2986083.0</td>\n",
       "      <td>12296051.0</td>\n",
       "      <td>66633.0</td>\n",
       "      <td>20700906.0</td>\n",
       "    </tr>\n",
       "  </tbody>\n",
       "</table>\n",
       "</div>"
      ],
      "text/plain": [
       "      weather_delay   nas_delay  security_delay  late_aircraft_delay\n",
       "year                                                                \n",
       "2013      1284081.0   8108306.0         60215.0           14814671.0\n",
       "2014      2988669.0  16519549.0         65350.0           29483984.0\n",
       "2015      3100233.0  14335762.0         80985.0           24961931.0\n",
       "2016      2606083.0  14170617.0         81925.0           23458398.0\n",
       "2017      2799759.0  16500787.0         94170.0           25905070.0\n",
       "2018      2986083.0  12296051.0         66633.0           20700906.0"
      ]
     },
     "execution_count": 181,
     "metadata": {},
     "output_type": "execute_result"
    }
   ],
   "source": [
    "years_df.sum()"
   ]
  },
  {
   "cell_type": "code",
   "execution_count": null,
   "metadata": {},
   "outputs": [],
   "source": []
  },
  {
   "cell_type": "code",
   "execution_count": 191,
   "metadata": {},
   "outputs": [
    {
     "data": {
      "text/html": [
       "<div>\n",
       "<style scoped>\n",
       "    .dataframe tbody tr th:only-of-type {\n",
       "        vertical-align: middle;\n",
       "    }\n",
       "\n",
       "    .dataframe tbody tr th {\n",
       "        vertical-align: top;\n",
       "    }\n",
       "\n",
       "    .dataframe thead th {\n",
       "        text-align: right;\n",
       "    }\n",
       "</style>\n",
       "<table border=\"1\" class=\"dataframe\">\n",
       "  <thead>\n",
       "    <tr style=\"text-align: right;\">\n",
       "      <th></th>\n",
       "      <th>year</th>\n",
       "      <th>carrier_name</th>\n",
       "      <th>weather_delay</th>\n",
       "      <th>nas_delay</th>\n",
       "      <th>security_delay</th>\n",
       "      <th>late_aircraft_delay</th>\n",
       "    </tr>\n",
       "  </thead>\n",
       "  <tbody>\n",
       "    <tr>\n",
       "      <th>0</th>\n",
       "      <td>2013</td>\n",
       "      <td>Pinnacle Airlines Inc.</td>\n",
       "      <td>53.0</td>\n",
       "      <td>398.0</td>\n",
       "      <td>0.0</td>\n",
       "      <td>847.0</td>\n",
       "    </tr>\n",
       "    <tr>\n",
       "      <th>1</th>\n",
       "      <td>2013</td>\n",
       "      <td>Pinnacle Airlines Inc.</td>\n",
       "      <td>27.0</td>\n",
       "      <td>802.0</td>\n",
       "      <td>0.0</td>\n",
       "      <td>3022.0</td>\n",
       "    </tr>\n",
       "    <tr>\n",
       "      <th>2</th>\n",
       "      <td>2013</td>\n",
       "      <td>Pinnacle Airlines Inc.</td>\n",
       "      <td>687.0</td>\n",
       "      <td>4481.0</td>\n",
       "      <td>0.0</td>\n",
       "      <td>16497.0</td>\n",
       "    </tr>\n",
       "    <tr>\n",
       "      <th>3</th>\n",
       "      <td>2013</td>\n",
       "      <td>Pinnacle Airlines Inc.</td>\n",
       "      <td>620.0</td>\n",
       "      <td>4629.0</td>\n",
       "      <td>0.0</td>\n",
       "      <td>11363.0</td>\n",
       "    </tr>\n",
       "    <tr>\n",
       "      <th>4</th>\n",
       "      <td>2013</td>\n",
       "      <td>Pinnacle Airlines Inc.</td>\n",
       "      <td>30.0</td>\n",
       "      <td>2791.0</td>\n",
       "      <td>19.0</td>\n",
       "      <td>2277.0</td>\n",
       "    </tr>\n",
       "  </tbody>\n",
       "</table>\n",
       "</div>"
      ],
      "text/plain": [
       "   year            carrier_name  weather_delay  nas_delay  security_delay  \\\n",
       "0  2013  Pinnacle Airlines Inc.           53.0      398.0             0.0   \n",
       "1  2013  Pinnacle Airlines Inc.           27.0      802.0             0.0   \n",
       "2  2013  Pinnacle Airlines Inc.          687.0     4481.0             0.0   \n",
       "3  2013  Pinnacle Airlines Inc.          620.0     4629.0             0.0   \n",
       "4  2013  Pinnacle Airlines Inc.           30.0     2791.0            19.0   \n",
       "\n",
       "   late_aircraft_delay  \n",
       "0                847.0  \n",
       "1               3022.0  \n",
       "2              16497.0  \n",
       "3              11363.0  \n",
       "4               2277.0  "
      ]
     },
     "execution_count": 191,
     "metadata": {},
     "output_type": "execute_result"
    }
   ],
   "source": [
    "new_data = weather_df[['year','carrier_name','weather_delay','nas_delay','security_delay','late_aircraft_delay']]\n",
    "weather_delay_df = pd.DataFrame(new_data)\n",
    "weather_delay_df.head()"
   ]
  },
  {
   "cell_type": "code",
   "execution_count": 183,
   "metadata": {},
   "outputs": [
    {
     "data": {
      "text/plain": [
       "carrier_name           Pinnacle Airlines Inc.Pinnacle Airlines Inc.Pi...\n",
       "weather_delay                                                1.57649e+07\n",
       "nas_delay                                                    8.19311e+07\n",
       "security_delay                                                    449278\n",
       "late_aircraft_delay                                          1.39325e+08\n",
       "dtype: object"
      ]
     },
     "execution_count": 183,
     "metadata": {},
     "output_type": "execute_result"
    }
   ],
   "source": [
    "weather_delay_df.sum()"
   ]
  },
  {
   "cell_type": "code",
   "execution_count": null,
   "metadata": {},
   "outputs": [],
   "source": []
  },
  {
   "cell_type": "code",
   "execution_count": 184,
   "metadata": {},
   "outputs": [],
   "source": [
    "#top5delays= weather_delay_df.head()"
   ]
  },
  {
   "cell_type": "code",
   "execution_count": 185,
   "metadata": {},
   "outputs": [],
   "source": [
    "#x_axis = np.arange(len(top5delays))\n",
    "#x_axis "
   ]
  },
  {
   "cell_type": "code",
   "execution_count": 192,
   "metadata": {},
   "outputs": [],
   "source": [
    "#x_axis=plt.bar"
   ]
  },
  {
   "cell_type": "code",
   "execution_count": null,
   "metadata": {},
   "outputs": [],
   "source": []
  },
  {
   "cell_type": "code",
   "execution_count": 193,
   "metadata": {},
   "outputs": [],
   "source": [
    "#top5delays.plot(kind='barh', stacked=True, figsize=[16,6], colormap='winter')\n",
    "#plt.title(\"Types of Delays\")\n",
    "#plt.xlabel(\"Minutes_delays\")\n",
    "#plt.ylabel(\"Carrier_name\")"
   ]
  },
  {
   "cell_type": "code",
   "execution_count": null,
   "metadata": {},
   "outputs": [],
   "source": []
  },
  {
   "cell_type": "code",
   "execution_count": 194,
   "metadata": {},
   "outputs": [
    {
     "data": {
      "text/plain": [
       "array(['Pinnacle Airlines Inc.', 'American Airlines Inc.',\n",
       "       'Alaska Airlines Inc.', 'JetBlue Airways', 'Delta Air Lines Inc.',\n",
       "       'ExpressJet Airlines Inc.', 'Frontier Airlines Inc.',\n",
       "       'AirTran Airways Corporation', 'Hawaiian Airlines Inc.',\n",
       "       'American Eagle Airlines Inc.', 'SkyWest Airlines Inc.',\n",
       "       'United Air Lines Inc.', 'US Airways Inc.', 'Virgin America',\n",
       "       'Southwest Airlines Co.', 'Mesa Airlines Inc.',\n",
       "       'Endeavor Air Inc.', 'Envoy Air', 'Spirit Air Lines',\n",
       "       'PSA Airlines Inc.', 'Republic Airline', 'Allegiant Air'],\n",
       "      dtype=object)"
      ]
     },
     "execution_count": 194,
     "metadata": {},
     "output_type": "execute_result"
    }
   ],
   "source": [
    "carriers= weather_delay_df['carrier_name'].unique()\n",
    "#carriers=new_df(weather_delay_df).unique()\n",
    "carriers"
   ]
  },
  {
   "cell_type": "code",
   "execution_count": null,
   "metadata": {},
   "outputs": [],
   "source": []
  },
  {
   "cell_type": "code",
   "execution_count": 225,
   "metadata": {},
   "outputs": [
    {
     "data": {
      "text/html": [
       "<div>\n",
       "<style scoped>\n",
       "    .dataframe tbody tr th:only-of-type {\n",
       "        vertical-align: middle;\n",
       "    }\n",
       "\n",
       "    .dataframe tbody tr th {\n",
       "        vertical-align: top;\n",
       "    }\n",
       "\n",
       "    .dataframe thead th {\n",
       "        text-align: right;\n",
       "    }\n",
       "</style>\n",
       "<table border=\"1\" class=\"dataframe\">\n",
       "  <thead>\n",
       "    <tr style=\"text-align: right;\">\n",
       "      <th></th>\n",
       "      <th>weather_delay</th>\n",
       "      <th>nas_delay</th>\n",
       "      <th>security_delay</th>\n",
       "      <th>late_aircraft_delay</th>\n",
       "    </tr>\n",
       "    <tr>\n",
       "      <th>carrier_name</th>\n",
       "      <th></th>\n",
       "      <th></th>\n",
       "      <th></th>\n",
       "      <th></th>\n",
       "    </tr>\n",
       "  </thead>\n",
       "  <tbody>\n",
       "    <tr>\n",
       "      <th>AirTran Airways Corporation</th>\n",
       "      <td>43015.0</td>\n",
       "      <td>378243.0</td>\n",
       "      <td>0.0</td>\n",
       "      <td>711503.0</td>\n",
       "    </tr>\n",
       "    <tr>\n",
       "      <th>Alaska Airlines Inc.</th>\n",
       "      <td>203227.0</td>\n",
       "      <td>1989004.0</td>\n",
       "      <td>29041.0</td>\n",
       "      <td>1953625.0</td>\n",
       "    </tr>\n",
       "    <tr>\n",
       "      <th>Allegiant Air</th>\n",
       "      <td>53669.0</td>\n",
       "      <td>152807.0</td>\n",
       "      <td>2149.0</td>\n",
       "      <td>466010.0</td>\n",
       "    </tr>\n",
       "    <tr>\n",
       "      <th>American Airlines Inc.</th>\n",
       "      <td>2348316.0</td>\n",
       "      <td>10659098.0</td>\n",
       "      <td>78142.0</td>\n",
       "      <td>16775133.0</td>\n",
       "    </tr>\n",
       "    <tr>\n",
       "      <th>American Eagle Airlines Inc.</th>\n",
       "      <td>392063.0</td>\n",
       "      <td>1090362.0</td>\n",
       "      <td>1582.0</td>\n",
       "      <td>1727283.0</td>\n",
       "    </tr>\n",
       "    <tr>\n",
       "      <th>Delta Air Lines Inc.</th>\n",
       "      <td>2988142.0</td>\n",
       "      <td>10055567.0</td>\n",
       "      <td>32007.0</td>\n",
       "      <td>11513094.0</td>\n",
       "    </tr>\n",
       "    <tr>\n",
       "      <th>Endeavor Air Inc.</th>\n",
       "      <td>201878.0</td>\n",
       "      <td>765149.0</td>\n",
       "      <td>1598.0</td>\n",
       "      <td>1085603.0</td>\n",
       "    </tr>\n",
       "    <tr>\n",
       "      <th>Envoy Air</th>\n",
       "      <td>878333.0</td>\n",
       "      <td>2673228.0</td>\n",
       "      <td>14139.0</td>\n",
       "      <td>3788277.0</td>\n",
       "    </tr>\n",
       "    <tr>\n",
       "      <th>ExpressJet Airlines Inc.</th>\n",
       "      <td>889150.0</td>\n",
       "      <td>8975042.0</td>\n",
       "      <td>5431.0</td>\n",
       "      <td>14244013.0</td>\n",
       "    </tr>\n",
       "    <tr>\n",
       "      <th>Frontier Airlines Inc.</th>\n",
       "      <td>114983.0</td>\n",
       "      <td>2400836.0</td>\n",
       "      <td>0.0</td>\n",
       "      <td>3564819.0</td>\n",
       "    </tr>\n",
       "    <tr>\n",
       "      <th>Hawaiian Airlines Inc.</th>\n",
       "      <td>57032.0</td>\n",
       "      <td>38507.0</td>\n",
       "      <td>3586.0</td>\n",
       "      <td>526899.0</td>\n",
       "    </tr>\n",
       "    <tr>\n",
       "      <th>JetBlue Airways</th>\n",
       "      <td>655749.0</td>\n",
       "      <td>5604727.0</td>\n",
       "      <td>56434.0</td>\n",
       "      <td>8897459.0</td>\n",
       "    </tr>\n",
       "    <tr>\n",
       "      <th>Mesa Airlines Inc.</th>\n",
       "      <td>159798.0</td>\n",
       "      <td>366602.0</td>\n",
       "      <td>5653.0</td>\n",
       "      <td>1011533.0</td>\n",
       "    </tr>\n",
       "    <tr>\n",
       "      <th>PSA Airlines Inc.</th>\n",
       "      <td>157371.0</td>\n",
       "      <td>355774.0</td>\n",
       "      <td>3574.0</td>\n",
       "      <td>1193756.0</td>\n",
       "    </tr>\n",
       "    <tr>\n",
       "      <th>Pinnacle Airlines Inc.</th>\n",
       "      <td>18321.0</td>\n",
       "      <td>95139.0</td>\n",
       "      <td>221.0</td>\n",
       "      <td>160627.0</td>\n",
       "    </tr>\n",
       "    <tr>\n",
       "      <th>Republic Airline</th>\n",
       "      <td>119689.0</td>\n",
       "      <td>726251.0</td>\n",
       "      <td>1382.0</td>\n",
       "      <td>789132.0</td>\n",
       "    </tr>\n",
       "    <tr>\n",
       "      <th>SkyWest Airlines Inc.</th>\n",
       "      <td>1869567.0</td>\n",
       "      <td>8165285.0</td>\n",
       "      <td>44011.0</td>\n",
       "      <td>17442242.0</td>\n",
       "    </tr>\n",
       "    <tr>\n",
       "      <th>Southwest Airlines Co.</th>\n",
       "      <td>2466147.0</td>\n",
       "      <td>9965049.0</td>\n",
       "      <td>102615.0</td>\n",
       "      <td>34997691.0</td>\n",
       "    </tr>\n",
       "    <tr>\n",
       "      <th>Spirit Air Lines</th>\n",
       "      <td>168234.0</td>\n",
       "      <td>4044053.0</td>\n",
       "      <td>16403.0</td>\n",
       "      <td>2095172.0</td>\n",
       "    </tr>\n",
       "    <tr>\n",
       "      <th>US Airways Inc.</th>\n",
       "      <td>237833.0</td>\n",
       "      <td>2322207.0</td>\n",
       "      <td>25435.0</td>\n",
       "      <td>1919949.0</td>\n",
       "    </tr>\n",
       "    <tr>\n",
       "      <th>United Air Lines Inc.</th>\n",
       "      <td>1561212.0</td>\n",
       "      <td>9458653.0</td>\n",
       "      <td>8593.0</td>\n",
       "      <td>13053671.0</td>\n",
       "    </tr>\n",
       "    <tr>\n",
       "      <th>Virgin America</th>\n",
       "      <td>181179.0</td>\n",
       "      <td>1649489.0</td>\n",
       "      <td>17282.0</td>\n",
       "      <td>1407469.0</td>\n",
       "    </tr>\n",
       "  </tbody>\n",
       "</table>\n",
       "</div>"
      ],
      "text/plain": [
       "                              weather_delay   nas_delay  security_delay  \\\n",
       "carrier_name                                                              \n",
       "AirTran Airways Corporation         43015.0    378243.0             0.0   \n",
       "Alaska Airlines Inc.               203227.0   1989004.0         29041.0   \n",
       "Allegiant Air                       53669.0    152807.0          2149.0   \n",
       "American Airlines Inc.            2348316.0  10659098.0         78142.0   \n",
       "American Eagle Airlines Inc.       392063.0   1090362.0          1582.0   \n",
       "Delta Air Lines Inc.              2988142.0  10055567.0         32007.0   \n",
       "Endeavor Air Inc.                  201878.0    765149.0          1598.0   \n",
       "Envoy Air                          878333.0   2673228.0         14139.0   \n",
       "ExpressJet Airlines Inc.           889150.0   8975042.0          5431.0   \n",
       "Frontier Airlines Inc.             114983.0   2400836.0             0.0   \n",
       "Hawaiian Airlines Inc.              57032.0     38507.0          3586.0   \n",
       "JetBlue Airways                    655749.0   5604727.0         56434.0   \n",
       "Mesa Airlines Inc.                 159798.0    366602.0          5653.0   \n",
       "PSA Airlines Inc.                  157371.0    355774.0          3574.0   \n",
       "Pinnacle Airlines Inc.              18321.0     95139.0           221.0   \n",
       "Republic Airline                   119689.0    726251.0          1382.0   \n",
       "SkyWest Airlines Inc.             1869567.0   8165285.0         44011.0   \n",
       "Southwest Airlines Co.            2466147.0   9965049.0        102615.0   \n",
       "Spirit Air Lines                   168234.0   4044053.0         16403.0   \n",
       "US Airways Inc.                    237833.0   2322207.0         25435.0   \n",
       "United Air Lines Inc.             1561212.0   9458653.0          8593.0   \n",
       "Virgin America                     181179.0   1649489.0         17282.0   \n",
       "\n",
       "                              late_aircraft_delay  \n",
       "carrier_name                                       \n",
       "AirTran Airways Corporation              711503.0  \n",
       "Alaska Airlines Inc.                    1953625.0  \n",
       "Allegiant Air                            466010.0  \n",
       "American Airlines Inc.                 16775133.0  \n",
       "American Eagle Airlines Inc.            1727283.0  \n",
       "Delta Air Lines Inc.                   11513094.0  \n",
       "Endeavor Air Inc.                       1085603.0  \n",
       "Envoy Air                               3788277.0  \n",
       "ExpressJet Airlines Inc.               14244013.0  \n",
       "Frontier Airlines Inc.                  3564819.0  \n",
       "Hawaiian Airlines Inc.                   526899.0  \n",
       "JetBlue Airways                         8897459.0  \n",
       "Mesa Airlines Inc.                      1011533.0  \n",
       "PSA Airlines Inc.                       1193756.0  \n",
       "Pinnacle Airlines Inc.                   160627.0  \n",
       "Republic Airline                         789132.0  \n",
       "SkyWest Airlines Inc.                  17442242.0  \n",
       "Southwest Airlines Co.                 34997691.0  \n",
       "Spirit Air Lines                        2095172.0  \n",
       "US Airways Inc.                         1919949.0  \n",
       "United Air Lines Inc.                  13053671.0  \n",
       "Virgin America                          1407469.0  "
      ]
     },
     "execution_count": 225,
     "metadata": {},
     "output_type": "execute_result"
    }
   ],
   "source": [
    "carrier = new_data.groupby('carrier_name')\n",
    "carrier_count = carrier.sum()[['weather_delay','nas_delay','security_delay','late_aircraft_delay']]\n",
    "carrier_df = pd.DataFrame(carrier_count)\n",
    "carrier_df"
   ]
  },
  {
   "cell_type": "code",
   "execution_count": 226,
   "metadata": {},
   "outputs": [
    {
     "data": {
      "text/plain": [
       "array([ 0,  1,  2,  3,  4,  5,  6,  7,  8,  9, 10, 11, 12, 13, 14, 15, 16,\n",
       "       17, 18, 19, 20, 21])"
      ]
     },
     "execution_count": 226,
     "metadata": {},
     "output_type": "execute_result"
    }
   ],
   "source": [
    "x_axis = np.arange(len(carrier_df))\n",
    "x_axis "
   ]
  },
  {
   "cell_type": "code",
   "execution_count": 227,
   "metadata": {},
   "outputs": [
    {
     "data": {
      "text/plain": [
       "Text(0.5,1,'Types of Delays')"
      ]
     },
     "execution_count": 227,
     "metadata": {},
     "output_type": "execute_result"
    },
    {
     "data": {
      "image/png": "[encoded data removed]",
      "text/plain": [
       "<matplotlib.figure.Figure at 0x1d4c9affbe0>"
      ]
     },
     "metadata": {},
     "output_type": "display_data"
    }
   ],
   "source": [
    "carrier_df.plot(kind='barh', stacked=True, figsize=[16,6], colormap='winter')\n",
    "plt.title(\"Types of Delays\")"
   ]
  },
  {
   "cell_type": "code",
   "execution_count": 238,
   "metadata": {},
   "outputs": [
    {
     "data": {
      "text/html": [
       "<div>\n",
       "<style scoped>\n",
       "    .dataframe tbody tr th:only-of-type {\n",
       "        vertical-align: middle;\n",
       "    }\n",
       "\n",
       "    .dataframe tbody tr th {\n",
       "        vertical-align: top;\n",
       "    }\n",
       "\n",
       "    .dataframe thead th {\n",
       "        text-align: right;\n",
       "    }\n",
       "</style>\n",
       "<table border=\"1\" class=\"dataframe\">\n",
       "  <thead>\n",
       "    <tr style=\"text-align: right;\">\n",
       "      <th></th>\n",
       "      <th>Total_delays</th>\n",
       "    </tr>\n",
       "    <tr>\n",
       "      <th>carrier_name</th>\n",
       "      <th></th>\n",
       "    </tr>\n",
       "  </thead>\n",
       "  <tbody>\n",
       "    <tr>\n",
       "      <th>SkyWest Airlines Inc.</th>\n",
       "      <td>22908642</td>\n",
       "    </tr>\n",
       "    <tr>\n",
       "      <th>ExpressJet Airlines Inc.</th>\n",
       "      <td>19039657</td>\n",
       "    </tr>\n",
       "    <tr>\n",
       "      <th>Delta Air Lines Inc.</th>\n",
       "      <td>17684774</td>\n",
       "    </tr>\n",
       "    <tr>\n",
       "      <th>American Airlines Inc.</th>\n",
       "      <td>10932821</td>\n",
       "    </tr>\n",
       "    <tr>\n",
       "      <th>Southwest Airlines Co.</th>\n",
       "      <td>10646058</td>\n",
       "    </tr>\n",
       "  </tbody>\n",
       "</table>\n",
       "</div>"
      ],
      "text/plain": [
       "                          Total_delays\n",
       "carrier_name                          \n",
       "SkyWest Airlines Inc.         22908642\n",
       "ExpressJet Airlines Inc.      19039657\n",
       "Delta Air Lines Inc.          17684774\n",
       "American Airlines Inc.        10932821\n",
       "Southwest Airlines Co.        10646058"
      ]
     },
     "execution_count": 238,
     "metadata": {},
     "output_type": "execute_result"
    }
   ],
   "source": [
    "carrier = new_data.groupby('carrier_name')\n",
    "carrier_count = carrier.sum()['year']\n",
    "carrier_df = pd.DataFrame(carrier_count)\n",
    "carrier_df.columns = ['Total_delays']\n",
    "carrierdelays = carrier_df.sort_values(by=['Total_delays'],ascending=False )\n",
    "#carrierdelays = carrier_df.sort_values(by=carrierdelays =                                \n",
    "#top5delays = carrierdelays.iloc[0:5, :]\n",
    "top5delays"
   ]
  },
  {
   "cell_type": "code",
   "execution_count": null,
   "metadata": {},
   "outputs": [],
   "source": []
  },
  {
   "cell_type": "code",
   "execution_count": 241,
   "metadata": {},
   "outputs": [
    {
     "data": {
      "text/plain": [
       "array([0, 1, 2, 3, 4])"
      ]
     },
     "execution_count": 241,
     "metadata": {},
     "output_type": "execute_result"
    }
   ],
   "source": [
    "x_axis = np.arange(len(top5delays))\n",
    "x_axis"
   ]
  },
  {
   "cell_type": "code",
   "execution_count": 242,
   "metadata": {
    "scrolled": true
   },
   "outputs": [
    {
     "data": {
      "text/plain": [
       "<matplotlib.axes._subplots.AxesSubplot at 0x1d4ca08e860>"
      ]
     },
     "execution_count": 242,
     "metadata": {},
     "output_type": "execute_result"
    },
    {
     "data": {
      "image/png": "[encoded data removed]",
      "text/plain": [
       "<matplotlib.figure.Figure at 0x1d4c9b70278>"
      ]
     },
     "metadata": {},
     "output_type": "display_data"
    }
   ],
   "source": [
    "#plt.bar(x_axis, top5delays['Total_delays'], colors= [\"gold\", \"lightcoral\", \"lightskyblue\"], alpha=0.5, align=\"center\")\n",
    "\n",
    "top5delays.plot(kind='barh', stacked=True, figsize=[16,5], colormap='summer')\n",
    "    "
   ]
  },
  {
   "cell_type": "code",
   "execution_count": null,
   "metadata": {},
   "outputs": [],
   "source": []
  },
  {
   "cell_type": "code",
   "execution_count": null,
   "metadata": {},
   "outputs": [],
   "source": []
  },
  {
   "cell_type": "code",
   "execution_count": null,
   "metadata": {},
   "outputs": [],
   "source": []
  },
  {
   "cell_type": "code",
   "execution_count": null,
   "metadata": {},
   "outputs": [],
   "source": []
  },
  {
   "cell_type": "code",
   "execution_count": null,
   "metadata": {},
   "outputs": [],
   "source": []
  },
  {
   "cell_type": "code",
   "execution_count": null,
   "metadata": {},
   "outputs": [],
   "source": []
  },
  {
   "cell_type": "code",
   "execution_count": null,
   "metadata": {},
   "outputs": [],
   "source": []
  },
  {
   "cell_type": "code",
   "execution_count": null,
   "metadata": {},
   "outputs": [],
   "source": []
  }
 ],
 "metadata": {
  "kernelspec": {
   "display_name": "Python 3",
   "language": "python",
   "name": "python3"
  },
  "language_info": {
   "codemirror_mode": {
    "name": "ipython",
    "version": 3
   },
   "file_extension": ".py",
   "mimetype": "text/x-python",
   "name": "python",
   "nbconvert_exporter": "python",
   "pygments_lexer": "ipython3",
   "version": "3.6.4"
  }
 },
 "nbformat": 4,
 "nbformat_minor": 2
}
